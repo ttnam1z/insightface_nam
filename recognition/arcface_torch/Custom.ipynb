{
 "cells": [
  {
   "cell_type": "code",
   "execution_count": 1,
   "id": "f23dc609-71da-4d20-b64c-d2cfa82c6fa3",
   "metadata": {},
   "outputs": [
    {
     "name": "stdout",
     "output_type": "stream",
     "text": [
      "/mnt/d/Work/machine_learning/ArcFace/recognition/arcface_torch\n"
     ]
    }
   ],
   "source": [
    "import os\n",
    "\n",
    "cwd = os.getcwd()\n",
    "print(cwd)"
   ]
  },
  {
   "cell_type": "code",
   "execution_count": 2,
   "id": "e36cff2d-32cb-4ae8-a003-8316aa98eb89",
   "metadata": {},
   "outputs": [],
   "source": [
    "import numpy as np # linear algebra\n",
    "import pandas as pd # data processing, CSV file I/O (e.g. pd.read_csv)\n",
    "import torch"
   ]
  },
  {
   "cell_type": "code",
   "execution_count": 9,
   "id": "ba8fdba6-62b5-44c8-bddc-eaba796a536d",
   "metadata": {},
   "outputs": [
    {
     "name": "stdout",
     "output_type": "stream",
     "text": [
      "/bin/bash: /home/namtt/miniconda3/envs/tf/lib/libtinfo.so.6: no version information available (required by /bin/bash)\n",
      "/bin/bash: unzip: command not found\n"
     ]
    }
   ],
   "source": [
    "# !unzip -d train_tmp/ faces_webface_112x112.zip"
   ]
  },
  {
   "cell_type": "code",
   "execution_count": 8,
   "id": "33da88d9-df46-4690-a199-fb7916e17fbf",
   "metadata": {},
   "outputs": [
    {
     "name": "stdout",
     "output_type": "stream",
     "text": [
      "/bin/bash: /home/namtt/miniconda3/envs/tf/lib/libtinfo.so.6: no version information available (required by /bin/bash)\n",
      "/home/namtt/miniconda3/envs/tf/lib/python3.9/site-packages/torch/utils/_contextlib.py:125: UserWarning: Decorating classes is deprecated and will be disabled in future versions. You should only decorate functions or methods. To preserve the current behavior of class decoration, you can directly decorate the `__init__` method and nothing else.\n",
      "  warnings.warn(\"Decorating classes is deprecated and will be disabled in \"\n",
      "2025-03-28 09:41:47.057089: I tensorflow/core/platform/cpu_feature_guard.cc:193] This TensorFlow binary is optimized with oneAPI Deep Neural Network Library (oneDNN) to use the following CPU instructions in performance-critical operations:  AVX2 FMA\n",
      "To enable them in other operations, rebuild TensorFlow with the appropriate compiler flags.\n",
      "2025-03-28 09:41:49.223816: W tensorflow/compiler/xla/stream_executor/platform/default/dso_loader.cc:64] Could not load dynamic library 'libnvinfer.so.7'; dlerror: libnvinfer.so.7: cannot open shared object file: No such file or directory; LD_LIBRARY_PATH: /home/namtt/miniconda3/envs/tf/lib/python3.9/site-packages/cv2/../../lib64::/home/namtt/miniconda3/envs/tf/lib/\n",
      "2025-03-28 09:41:49.225064: W tensorflow/compiler/xla/stream_executor/platform/default/dso_loader.cc:64] Could not load dynamic library 'libnvinfer_plugin.so.7'; dlerror: libnvinfer_plugin.so.7: cannot open shared object file: No such file or directory; LD_LIBRARY_PATH: /home/namtt/miniconda3/envs/tf/lib/python3.9/site-packages/cv2/../../lib64::/home/namtt/miniconda3/envs/tf/lib/\n",
      "2025-03-28 09:41:49.225090: W tensorflow/compiler/tf2tensorrt/utils/py_utils.cc:38] TF-TRT Warning: Cannot dlopen some TensorRT libraries. If you would like to use Nvidia GPU with TensorRT, please make sure the missing libraries mentioned above are installed properly.\n",
      "/mnt/d/Work/machine_learning/ArcFace/recognition/arcface_torch/faces_webface\n",
      "Training: 2025-03-28 09:41:51,193-rank_id: 0\n",
      "/home/namtt/miniconda3/envs/tf/lib/python3.9/site-packages/torch/nn/parallel/distributed.py:1915: UserWarning: You passed find_unused_parameters=true to DistributedDataParallel, `_set_static_graph` will detect unused parameters automatically, so you do not need to set find_unused_parameters=true, just be sure these unused parameters will not change during training loop while calling `_set_static_graph`.\n",
      "  warnings.warn(\n",
      "Training: 2025-03-28 09:41:54,857-: margin_list              (1.0, 0.5, 0.0)\n",
      "Training: 2025-03-28 09:41:54,858-: network                  r50\n",
      "Training: 2025-03-28 09:41:54,858-: resume                   False\n",
      "Training: 2025-03-28 09:41:54,858-: save_all_states          False\n",
      "Training: 2025-03-28 09:41:54,858-: output                   work_dirs/custom_arc\n",
      "Training: 2025-03-28 09:41:54,859-: embedding_size           512\n",
      "Training: 2025-03-28 09:41:54,859-: sample_rate              0.7\n",
      "Training: 2025-03-28 09:41:54,859-: interclass_filtering_threshold0\n",
      "Training: 2025-03-28 09:41:54,859-: fp16                     True\n",
      "Training: 2025-03-28 09:41:54,859-: batch_size               128\n",
      "Training: 2025-03-28 09:41:54,860-: optimizer                sgd\n",
      "Training: 2025-03-28 09:41:54,860-: lr                       0.02\n",
      "Training: 2025-03-28 09:41:54,860-: momentum                 0.9\n",
      "Training: 2025-03-28 09:41:54,860-: weight_decay             0.0005\n",
      "Training: 2025-03-28 09:41:54,860-: verbose                  2000\n",
      "Training: 2025-03-28 09:41:54,861-: frequent                 10\n",
      "Training: 2025-03-28 09:41:54,861-: dali                     False\n",
      "Training: 2025-03-28 09:41:54,861-: dali_aug                 False\n",
      "Training: 2025-03-28 09:41:54,861-: gradient_acc             1\n",
      "Training: 2025-03-28 09:41:54,861-: seed                     2048\n",
      "Training: 2025-03-28 09:41:54,862-: num_workers              2\n",
      "Training: 2025-03-28 09:41:54,862-: wandb_key                XXXXXXXXXXXXXXXXXXXXXXXXXXXXXXXXXXXXXXXX\n",
      "Training: 2025-03-28 09:41:54,862-: suffix_run_name          None\n",
      "Training: 2025-03-28 09:41:54,862-: using_wandb              False\n",
      "Training: 2025-03-28 09:41:54,862-: wandb_entity             entity\n",
      "Training: 2025-03-28 09:41:54,863-: wandb_project            project\n",
      "Training: 2025-03-28 09:41:54,863-: wandb_log_all            True\n",
      "Training: 2025-03-28 09:41:54,863-: save_artifacts           False\n",
      "Training: 2025-03-28 09:41:54,863-: wandb_resume             False\n",
      "Training: 2025-03-28 09:41:54,863-: rec                      /mnt/d/Work/machine_learning/ArcFace/recognition/arcface_torch/faces_webface\n",
      "Training: 2025-03-28 09:41:54,864-: num_classes              1000\n",
      "Training: 2025-03-28 09:41:54,864-: num_image                10000\n",
      "Training: 2025-03-28 09:41:54,864-: num_epoch                20\n",
      "Training: 2025-03-28 09:41:54,864-: warmup_epoch             0\n",
      "Training: 2025-03-28 09:41:54,864-: val_targets              ['lfw', 'cfp_fp', 'agedb_30']\n",
      "Training: 2025-03-28 09:41:54,865-: total_batch_size         128\n",
      "Training: 2025-03-28 09:41:54,865-: warmup_step              0\n",
      "Training: 2025-03-28 09:41:54,865-: total_step               1560\n",
      "Traceback (most recent call last):\n",
      "  File \"/mnt/d/Work/machine_learning/ArcFace/recognition/arcface_torch/train_v2.py\", line 257, in <module>\n",
      "    main(parser.parse_args())\n",
      "  File \"/mnt/d/Work/machine_learning/ArcFace/recognition/arcface_torch/train_v2.py\", line 182, in main\n",
      "    local_embeddings = backbone(img)\n",
      "  File \"/home/namtt/miniconda3/envs/tf/lib/python3.9/site-packages/torch/nn/modules/module.py\", line 1501, in _call_impl\n",
      "    return forward_call(*args, **kwargs)\n",
      "  File \"/home/namtt/miniconda3/envs/tf/lib/python3.9/site-packages/torch/nn/parallel/distributed.py\", line 1156, in forward\n",
      "    output = self._run_ddp_forward(*inputs, **kwargs)\n",
      "  File \"/home/namtt/miniconda3/envs/tf/lib/python3.9/site-packages/torch/nn/parallel/distributed.py\", line 1110, in _run_ddp_forward\n",
      "    return module_to_run(*inputs[0], **kwargs[0])  # type: ignore[index]\n",
      "  File \"/home/namtt/miniconda3/envs/tf/lib/python3.9/site-packages/torch/nn/modules/module.py\", line 1501, in _call_impl\n",
      "    return forward_call(*args, **kwargs)\n",
      "  File \"/mnt/d/Work/machine_learning/ArcFace/recognition/arcface_torch/backbones/iresnet.py\", line 150, in forward\n",
      "    x = self.conv1(x)\n",
      "  File \"/home/namtt/miniconda3/envs/tf/lib/python3.9/site-packages/torch/nn/modules/module.py\", line 1501, in _call_impl\n",
      "    return forward_call(*args, **kwargs)\n",
      "  File \"/home/namtt/miniconda3/envs/tf/lib/python3.9/site-packages/torch/nn/modules/conv.py\", line 463, in forward\n",
      "    return self._conv_forward(input, self.weight, self.bias)\n",
      "  File \"/home/namtt/miniconda3/envs/tf/lib/python3.9/site-packages/torch/nn/modules/conv.py\", line 459, in _conv_forward\n",
      "    return F.conv2d(input, weight, bias, self.stride,\n",
      "RuntimeError: FIND was unable to find an engine to execute this computation\n"
     ]
    }
   ],
   "source": [
    "!python train_v2.py configs/custom_arc\n"
   ]
  },
  {
   "cell_type": "code",
   "execution_count": 11,
   "id": "689ff4ac-7731-43ac-acca-f7125605a140",
   "metadata": {},
   "outputs": [
    {
     "name": "stdout",
     "output_type": "stream",
     "text": [
      "/bin/bash: /home/namtt/miniconda3/envs/tf/lib/libtinfo.so.6: no version information available (required by /bin/bash)\n",
      "/bin/bash: nvcc: command not found\n"
     ]
    }
   ],
   "source": [
    "!nvcc --version"
   ]
  },
  {
   "cell_type": "code",
   "execution_count": 12,
   "id": "bb924482-fdf9-47f2-8652-cee25b28ccae",
   "metadata": {},
   "outputs": [
    {
     "name": "stdout",
     "output_type": "stream",
     "text": [
      "2.0.1+cu117\n"
     ]
    }
   ],
   "source": [
    "print(torch.__version__)"
   ]
  },
  {
   "cell_type": "code",
   "execution_count": 1,
   "id": "bdd97dbe-9626-4446-910b-1d5803c69784",
   "metadata": {},
   "outputs": [
    {
     "ename": "<class 'ModuleNotFoundError'>",
     "evalue": "No module named 'tensorrt'",
     "output_type": "error",
     "traceback": [
      "\u001b[0;31m---------------------------------------------------------------------------\u001b[0m",
      "\u001b[0;31mModuleNotFoundError\u001b[0m                       Traceback (most recent call last)",
      "Cell \u001b[0;32mIn [1], line 1\u001b[0m\n\u001b[0;32m----> 1\u001b[0m \u001b[38;5;28;01mimport\u001b[39;00m \u001b[38;5;21;01mtensorrt\u001b[39;00m\n\u001b[1;32m      2\u001b[0m \u001b[38;5;28mprint\u001b[39m(tensorrt\u001b[38;5;241m.\u001b[39mversion)\n",
      "\u001b[0;31mModuleNotFoundError\u001b[0m: No module named 'tensorrt'"
     ]
    }
   ],
   "source": [
    "import tensorrt\n",
    "print(tensorrt.version)"
   ]
  },
  {
   "cell_type": "code",
   "execution_count": null,
   "id": "0be69684-0692-483e-bac4-f6d34ea4062e",
   "metadata": {},
   "outputs": [],
   "source": []
  }
 ],
 "metadata": {
  "kernelspec": {
   "display_name": "Python 3.9 (XPython)",
   "language": "python",
   "name": "xpython"
  },
  "language_info": {
   "file_extension": ".py",
   "mimetype": "text/x-python",
   "name": "python",
   "version": "3.9.16"
  }
 },
 "nbformat": 4,
 "nbformat_minor": 5
}
